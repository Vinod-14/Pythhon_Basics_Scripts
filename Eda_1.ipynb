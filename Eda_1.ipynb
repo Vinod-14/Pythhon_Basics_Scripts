{
 "cells": [
  {
   "cell_type": "code",
   "execution_count": 1,
   "id": "1318b8bd",
   "metadata": {},
   "outputs": [],
   "source": [
    "import pandas as pd\n",
    "import numpy as np"
   ]
  },
  {
   "cell_type": "code",
   "execution_count": 2,
   "id": "02d6be8b",
   "metadata": {},
   "outputs": [],
   "source": [
    "h_f=pd.read_csv(\"https://raw.githubusercontent.com/Premalatha-success/Datasets/main/HousePrices.csv\")"
   ]
  },
  {
   "cell_type": "code",
   "execution_count": 3,
   "id": "605cf7a9",
   "metadata": {},
   "outputs": [
    {
     "data": {
      "text/html": [
       "<div>\n",
       "<style scoped>\n",
       "    .dataframe tbody tr th:only-of-type {\n",
       "        vertical-align: middle;\n",
       "    }\n",
       "\n",
       "    .dataframe tbody tr th {\n",
       "        vertical-align: top;\n",
       "    }\n",
       "\n",
       "    .dataframe thead th {\n",
       "        text-align: right;\n",
       "    }\n",
       "</style>\n",
       "<table border=\"1\" class=\"dataframe\">\n",
       "  <thead>\n",
       "    <tr style=\"text-align: right;\">\n",
       "      <th></th>\n",
       "      <th>Id</th>\n",
       "      <th>Dwell_Type</th>\n",
       "      <th>Zone_Class</th>\n",
       "      <th>LotFrontage</th>\n",
       "      <th>LotArea</th>\n",
       "      <th>Road_Type</th>\n",
       "      <th>Alley</th>\n",
       "      <th>Property_Shape</th>\n",
       "      <th>LandContour</th>\n",
       "      <th>Utilities</th>\n",
       "      <th>...</th>\n",
       "      <th>PoolArea</th>\n",
       "      <th>PoolQC</th>\n",
       "      <th>Fence</th>\n",
       "      <th>MiscFeature</th>\n",
       "      <th>MiscVal</th>\n",
       "      <th>MoSold</th>\n",
       "      <th>YrSold</th>\n",
       "      <th>SaleType</th>\n",
       "      <th>SaleCondition</th>\n",
       "      <th>Property_Sale_Price</th>\n",
       "    </tr>\n",
       "  </thead>\n",
       "  <tbody>\n",
       "    <tr>\n",
       "      <th>1316</th>\n",
       "      <td>1317</td>\n",
       "      <td>20</td>\n",
       "      <td>RL</td>\n",
       "      <td>61.0</td>\n",
       "      <td>10226</td>\n",
       "      <td>Pave</td>\n",
       "      <td>NaN</td>\n",
       "      <td>IR1</td>\n",
       "      <td>Lvl</td>\n",
       "      <td>AllPub</td>\n",
       "      <td>...</td>\n",
       "      <td>0</td>\n",
       "      <td>NaN</td>\n",
       "      <td>NaN</td>\n",
       "      <td>NaN</td>\n",
       "      <td>0</td>\n",
       "      <td>1</td>\n",
       "      <td>2009</td>\n",
       "      <td>WD</td>\n",
       "      <td>Normal</td>\n",
       "      <td>295493</td>\n",
       "    </tr>\n",
       "    <tr>\n",
       "      <th>768</th>\n",
       "      <td>769</td>\n",
       "      <td>20</td>\n",
       "      <td>RL</td>\n",
       "      <td>70.0</td>\n",
       "      <td>9100</td>\n",
       "      <td>Pave</td>\n",
       "      <td>NaN</td>\n",
       "      <td>Reg</td>\n",
       "      <td>Lvl</td>\n",
       "      <td>AllPub</td>\n",
       "      <td>...</td>\n",
       "      <td>0</td>\n",
       "      <td>NaN</td>\n",
       "      <td>NaN</td>\n",
       "      <td>NaN</td>\n",
       "      <td>0</td>\n",
       "      <td>10</td>\n",
       "      <td>2006</td>\n",
       "      <td>WD</td>\n",
       "      <td>Normal</td>\n",
       "      <td>216837</td>\n",
       "    </tr>\n",
       "    <tr>\n",
       "      <th>1414</th>\n",
       "      <td>1415</td>\n",
       "      <td>50</td>\n",
       "      <td>RL</td>\n",
       "      <td>64.0</td>\n",
       "      <td>13053</td>\n",
       "      <td>Pave</td>\n",
       "      <td>Pave</td>\n",
       "      <td>Reg</td>\n",
       "      <td>Bnk</td>\n",
       "      <td>AllPub</td>\n",
       "      <td>...</td>\n",
       "      <td>0</td>\n",
       "      <td>NaN</td>\n",
       "      <td>NaN</td>\n",
       "      <td>NaN</td>\n",
       "      <td>0</td>\n",
       "      <td>6</td>\n",
       "      <td>2008</td>\n",
       "      <td>WD</td>\n",
       "      <td>Normal</td>\n",
       "      <td>207000</td>\n",
       "    </tr>\n",
       "    <tr>\n",
       "      <th>1355</th>\n",
       "      <td>1356</td>\n",
       "      <td>80</td>\n",
       "      <td>RL</td>\n",
       "      <td>102.0</td>\n",
       "      <td>10192</td>\n",
       "      <td>Pave</td>\n",
       "      <td>NaN</td>\n",
       "      <td>IR1</td>\n",
       "      <td>Lvl</td>\n",
       "      <td>AllPub</td>\n",
       "      <td>...</td>\n",
       "      <td>0</td>\n",
       "      <td>NaN</td>\n",
       "      <td>GdPrv</td>\n",
       "      <td>NaN</td>\n",
       "      <td>0</td>\n",
       "      <td>9</td>\n",
       "      <td>2006</td>\n",
       "      <td>WD</td>\n",
       "      <td>Normal</td>\n",
       "      <td>170000</td>\n",
       "    </tr>\n",
       "    <tr>\n",
       "      <th>72</th>\n",
       "      <td>73</td>\n",
       "      <td>60</td>\n",
       "      <td>RL</td>\n",
       "      <td>74.0</td>\n",
       "      <td>10141</td>\n",
       "      <td>Pave</td>\n",
       "      <td>NaN</td>\n",
       "      <td>IR1</td>\n",
       "      <td>Lvl</td>\n",
       "      <td>AllPub</td>\n",
       "      <td>...</td>\n",
       "      <td>0</td>\n",
       "      <td>NaN</td>\n",
       "      <td>NaN</td>\n",
       "      <td>NaN</td>\n",
       "      <td>0</td>\n",
       "      <td>12</td>\n",
       "      <td>2009</td>\n",
       "      <td>WD</td>\n",
       "      <td>Normal</td>\n",
       "      <td>185000</td>\n",
       "    </tr>\n",
       "  </tbody>\n",
       "</table>\n",
       "<p>5 rows × 81 columns</p>\n",
       "</div>"
      ],
      "text/plain": [
       "        Id  Dwell_Type Zone_Class  LotFrontage  LotArea Road_Type Alley  \\\n",
       "1316  1317          20         RL         61.0    10226      Pave   NaN   \n",
       "768    769          20         RL         70.0     9100      Pave   NaN   \n",
       "1414  1415          50         RL         64.0    13053      Pave  Pave   \n",
       "1355  1356          80         RL        102.0    10192      Pave   NaN   \n",
       "72      73          60         RL         74.0    10141      Pave   NaN   \n",
       "\n",
       "     Property_Shape LandContour Utilities  ... PoolArea PoolQC  Fence  \\\n",
       "1316            IR1         Lvl    AllPub  ...        0    NaN    NaN   \n",
       "768             Reg         Lvl    AllPub  ...        0    NaN    NaN   \n",
       "1414            Reg         Bnk    AllPub  ...        0    NaN    NaN   \n",
       "1355            IR1         Lvl    AllPub  ...        0    NaN  GdPrv   \n",
       "72              IR1         Lvl    AllPub  ...        0    NaN    NaN   \n",
       "\n",
       "     MiscFeature MiscVal MoSold YrSold  SaleType  SaleCondition  \\\n",
       "1316         NaN       0      1   2009        WD         Normal   \n",
       "768          NaN       0     10   2006        WD         Normal   \n",
       "1414         NaN       0      6   2008        WD         Normal   \n",
       "1355         NaN       0      9   2006        WD         Normal   \n",
       "72           NaN       0     12   2009        WD         Normal   \n",
       "\n",
       "      Property_Sale_Price  \n",
       "1316               295493  \n",
       "768                216837  \n",
       "1414               207000  \n",
       "1355               170000  \n",
       "72                 185000  \n",
       "\n",
       "[5 rows x 81 columns]"
      ]
     },
     "execution_count": 3,
     "metadata": {},
     "output_type": "execute_result"
    }
   ],
   "source": [
    "h_f.sample(5)"
   ]
  },
  {
   "cell_type": "code",
   "execution_count": 7,
   "id": "f2b2005e",
   "metadata": {},
   "outputs": [
    {
     "data": {
      "text/plain": [
       "(1460, 80)"
      ]
     },
     "execution_count": 7,
     "metadata": {},
     "output_type": "execute_result"
    }
   ],
   "source": [
    "h_f.shape"
   ]
  },
  {
   "cell_type": "code",
   "execution_count": 4,
   "id": "aad17d48",
   "metadata": {
    "scrolled": true
   },
   "outputs": [
    {
     "data": {
      "text/plain": [
       "PoolQC          1453\n",
       "MiscFeature     1406\n",
       "Alley           1369\n",
       "Fence           1179\n",
       "FireplaceQu      690\n",
       "LotFrontage      259\n",
       "GarageType        81\n",
       "GarageYrBlt       81\n",
       "GarageFinish      81\n",
       "GarageQual        81\n",
       "GarageCond        81\n",
       "BsmtExposure      38\n",
       "BsmtFinType2      38\n",
       "BsmtQual          37\n",
       "BsmtCond          37\n",
       "BsmtFinType1      37\n",
       "MasVnrType         8\n",
       "MasVnrArea         8\n",
       "Electrical         1\n",
       "Id                 0\n",
       "dtype: int64"
      ]
     },
     "execution_count": 4,
     "metadata": {},
     "output_type": "execute_result"
    }
   ],
   "source": [
    "h_f.isnull().sum().nlargest(20)"
   ]
  },
  {
   "cell_type": "code",
   "execution_count": 6,
   "id": "acf07822",
   "metadata": {},
   "outputs": [],
   "source": [
    "h_f.drop(\"PoolQC\",axis=1,inplace=True)"
   ]
  },
  {
   "cell_type": "code",
   "execution_count": 8,
   "id": "766afdfe",
   "metadata": {},
   "outputs": [],
   "source": [
    "h_f.drop(\"MiscFeature\",axis=1,inplace=True)"
   ]
  },
  {
   "cell_type": "code",
   "execution_count": 9,
   "id": "4d3f0294",
   "metadata": {},
   "outputs": [],
   "source": [
    "h_f.drop(\"Alley\",axis=1,inplace=True)"
   ]
  },
  {
   "cell_type": "code",
   "execution_count": 10,
   "id": "f76b64d9",
   "metadata": {},
   "outputs": [],
   "source": [
    "h_f.drop(\"Fence\",axis=1,inplace=True)"
   ]
  },
  {
   "cell_type": "code",
   "execution_count": 14,
   "id": "fca47843",
   "metadata": {},
   "outputs": [
    {
     "data": {
      "text/plain": [
       "dtype('O')"
      ]
     },
     "execution_count": 14,
     "metadata": {},
     "output_type": "execute_result"
    }
   ],
   "source": [
    "h_f[\"FireplaceQu\"].dtypes"
   ]
  },
  {
   "cell_type": "code",
   "execution_count": 22,
   "id": "1609ed3d",
   "metadata": {},
   "outputs": [],
   "source": [
    "h_f[\"FireplaceQu\"]=h_f[\"FireplaceQu\"].replace(to_replace=0,value=np.nan)\n",
    "mode1=h_f[\"FireplaceQu\"].mode()\n",
    "mode1[0]\n",
    "h_f[\"FireplaceQu\"].replace(np.nan,mode1[0],inplace=True)\n"
   ]
  },
  {
   "cell_type": "code",
   "execution_count": 23,
   "id": "b88fbaf6",
   "metadata": {},
   "outputs": [
    {
     "data": {
      "text/plain": [
       "0"
      ]
     },
     "execution_count": 23,
     "metadata": {},
     "output_type": "execute_result"
    }
   ],
   "source": [
    "h_f[\"FireplaceQu\"].isnull().sum()"
   ]
  },
  {
   "cell_type": "code",
   "execution_count": 24,
   "id": "c2fdb7d8",
   "metadata": {},
   "outputs": [],
   "source": [
    "h_f[\"LotFrontage\"]=h_f[\"LotFrontage\"].replace(to_replace=0,value=np.nan)\n",
    "median1=h_f[\"LotFrontage\"].median()\n",
    "h_f[\"LotFrontage\"].replace(np.nan,median1,inplace=True)"
   ]
  },
  {
   "cell_type": "code",
   "execution_count": 25,
   "id": "1012f1a8",
   "metadata": {},
   "outputs": [
    {
     "data": {
      "text/plain": [
       "dtype('O')"
      ]
     },
     "execution_count": 25,
     "metadata": {},
     "output_type": "execute_result"
    }
   ],
   "source": [
    "h_f[\"GarageType\"].dtype"
   ]
  },
  {
   "cell_type": "code",
   "execution_count": 30,
   "id": "dd22287b",
   "metadata": {},
   "outputs": [],
   "source": [
    "h_f[\"GarageType\"]=h_f[\"GarageType\"].replace(to_replace=0,value=np.nan)\n",
    "mode2=h_f[\"GarageType\"].mode()\n",
    "mode2[0]\n",
    "h_f[\"GarageType\"].replace(np.nan,mode2[0],inplace=True)"
   ]
  },
  {
   "cell_type": "code",
   "execution_count": 33,
   "id": "394e8644",
   "metadata": {},
   "outputs": [
    {
     "data": {
      "text/plain": [
       "dtype('float64')"
      ]
     },
     "execution_count": 33,
     "metadata": {},
     "output_type": "execute_result"
    }
   ],
   "source": [
    "h_f[\"GarageYrBlt\"].dtypes"
   ]
  },
  {
   "cell_type": "code",
   "execution_count": 36,
   "id": "769d7665",
   "metadata": {},
   "outputs": [],
   "source": [
    "h_f[\"GarageYrBlt\"]=h_f[\"GarageYrBlt\"].replace(to_replace=0,value=np.nan)\n",
    "mean1=h_f[\"GarageYrBlt\"].mean()\n",
    "h_f[\"GarageYrBlt\"].replace(np.nan,mean1,inplace=True)"
   ]
  },
  {
   "cell_type": "code",
   "execution_count": 39,
   "id": "de211172",
   "metadata": {},
   "outputs": [
    {
     "data": {
      "text/plain": [
       "dtype('O')"
      ]
     },
     "execution_count": 39,
     "metadata": {},
     "output_type": "execute_result"
    }
   ],
   "source": [
    "h_f[\"GarageFinish\"].dtypes"
   ]
  },
  {
   "cell_type": "code",
   "execution_count": 40,
   "id": "c3175566",
   "metadata": {},
   "outputs": [],
   "source": [
    "h_f[\"GarageFinish\"]=h_f[\"GarageFinish\"].replace(to_replace=0,value=np.nan)\n",
    "mode3=h_f[\"GarageFinish\"].mode()\n",
    "mode3[0]\n",
    "h_f[\"GarageFinish\"].replace(np.nan,mode3[0],inplace=True)\n"
   ]
  },
  {
   "cell_type": "code",
   "execution_count": 41,
   "id": "c7462f8a",
   "metadata": {},
   "outputs": [
    {
     "data": {
      "text/plain": [
       "dtype('O')"
      ]
     },
     "execution_count": 41,
     "metadata": {},
     "output_type": "execute_result"
    }
   ],
   "source": [
    "h_f[\"GarageQual\"].dtype"
   ]
  },
  {
   "cell_type": "code",
   "execution_count": 42,
   "id": "f1928668",
   "metadata": {},
   "outputs": [],
   "source": [
    "h_f[\"GarageQual\"]=h_f[\"GarageQual\"].replace(to_replace=0,value=np.nan)\n",
    "mode4=h_f[\"GarageQual\"].mode()\n",
    "mode4[0]\n",
    "h_f[\"GarageQual\"].replace(np.nan,mode4[0],inplace=True)"
   ]
  },
  {
   "cell_type": "code",
   "execution_count": 43,
   "id": "e6bba548",
   "metadata": {},
   "outputs": [
    {
     "data": {
      "text/plain": [
       "dtype('O')"
      ]
     },
     "execution_count": 43,
     "metadata": {},
     "output_type": "execute_result"
    }
   ],
   "source": [
    "h_f[\"GarageCond\"].dtype"
   ]
  },
  {
   "cell_type": "code",
   "execution_count": 44,
   "id": "974f904f",
   "metadata": {},
   "outputs": [],
   "source": [
    "h_f[\"GarageCond\"]=h_f[\"GarageCond\"].replace(to_replace=0,value=np.nan)\n",
    "mode5=h_f[\"GarageCond\"].mode()\n",
    "mode5[0]\n",
    "h_f[\"GarageCond\"].replace(np.nan,mode5[0],inplace=True)"
   ]
  },
  {
   "cell_type": "code",
   "execution_count": 45,
   "id": "12e33ac7",
   "metadata": {},
   "outputs": [
    {
     "data": {
      "text/plain": [
       "dtype('O')"
      ]
     },
     "execution_count": 45,
     "metadata": {},
     "output_type": "execute_result"
    }
   ],
   "source": [
    "h_f[\"BsmtExposure\"].dtype"
   ]
  },
  {
   "cell_type": "code",
   "execution_count": 46,
   "id": "876442cb",
   "metadata": {},
   "outputs": [],
   "source": [
    "h_f[\"BsmtExposure\"]=h_f[\"BsmtExposure\"].replace(to_replace=0,value=np.nan)\n",
    "mode6=h_f[\"BsmtExposure\"].mode()\n",
    "mode6[0]\n",
    "h_f[\"BsmtExposure\"].replace(np.nan,mode6[0],inplace=True)"
   ]
  },
  {
   "cell_type": "code",
   "execution_count": 47,
   "id": "f18b0f77",
   "metadata": {},
   "outputs": [
    {
     "data": {
      "text/plain": [
       "dtype('O')"
      ]
     },
     "execution_count": 47,
     "metadata": {},
     "output_type": "execute_result"
    }
   ],
   "source": [
    "h_f[\"BsmtFinType2\"].dtype"
   ]
  },
  {
   "cell_type": "code",
   "execution_count": 48,
   "id": "e2146e00",
   "metadata": {},
   "outputs": [],
   "source": [
    "h_f[\"BsmtFinType2\"]=h_f[\"BsmtFinType2\"].replace(to_replace=0,value=np.nan)\n",
    "mode7=h_f[\"BsmtFinType2\"].mode()\n",
    "mode7[0]\n",
    "h_f[\"BsmtFinType2\"].replace(np.nan,mode7[0],inplace=True)"
   ]
  },
  {
   "cell_type": "code",
   "execution_count": 52,
   "id": "0eeab093",
   "metadata": {},
   "outputs": [
    {
     "data": {
      "text/plain": [
       "BsmtQual        37\n",
       "BsmtCond        37\n",
       "BsmtFinType1    37\n",
       "MasVnrType       8\n",
       "MasVnrArea       8\n",
       "Electrical       1\n",
       "Id               0\n",
       "dtype: int64"
      ]
     },
     "execution_count": 52,
     "metadata": {},
     "output_type": "execute_result"
    }
   ],
   "source": [
    "h_f.isnull().sum().nlargest(7)"
   ]
  },
  {
   "cell_type": "code",
   "execution_count": 53,
   "id": "edaaa97e",
   "metadata": {},
   "outputs": [
    {
     "data": {
      "text/plain": [
       "dtype('O')"
      ]
     },
     "execution_count": 53,
     "metadata": {},
     "output_type": "execute_result"
    }
   ],
   "source": [
    "h_f[\"BsmtQual\"].dtype"
   ]
  },
  {
   "cell_type": "code",
   "execution_count": 54,
   "id": "1c3114fa",
   "metadata": {},
   "outputs": [],
   "source": [
    "h_f[\"BsmtQual\"]=h_f[\"BsmtQual\"].replace(to_replace=0,value=np.nan)\n",
    "mode8=h_f[\"BsmtQual\"].mode()\n",
    "mode8[0]\n",
    "h_f[\"BsmtQual\"].replace(np.nan,mode8[0],inplace=True)"
   ]
  },
  {
   "cell_type": "code",
   "execution_count": 55,
   "id": "f6f1ae48",
   "metadata": {},
   "outputs": [
    {
     "data": {
      "text/plain": [
       "0       Gd\n",
       "1       Gd\n",
       "2       Gd\n",
       "3       TA\n",
       "4       Gd\n",
       "        ..\n",
       "1455    Gd\n",
       "1456    Gd\n",
       "1457    TA\n",
       "1458    TA\n",
       "1459    TA\n",
       "Name: BsmtQual, Length: 1460, dtype: object"
      ]
     },
     "execution_count": 55,
     "metadata": {},
     "output_type": "execute_result"
    }
   ],
   "source": [
    "h_f[\"BsmtQual\"]"
   ]
  },
  {
   "cell_type": "code",
   "execution_count": 56,
   "id": "67c41ecc",
   "metadata": {},
   "outputs": [
    {
     "data": {
      "text/plain": [
       "dtype('O')"
      ]
     },
     "execution_count": 56,
     "metadata": {},
     "output_type": "execute_result"
    }
   ],
   "source": [
    "h_f[\"BsmtCond\"].dtype"
   ]
  },
  {
   "cell_type": "code",
   "execution_count": 57,
   "id": "7f4b5822",
   "metadata": {},
   "outputs": [],
   "source": [
    "h_f[\"BsmtCond\"]=h_f[\"BsmtCond\"].replace(to_replace=0,value=np.nan)\n",
    "mode9=h_f[\"BsmtCond\"].mode()\n",
    "mode9[0]\n",
    "h_f[\"BsmtCond\"].replace(np.nan,mode9[0],inplace=True)"
   ]
  },
  {
   "cell_type": "code",
   "execution_count": 58,
   "id": "3df4f0c4",
   "metadata": {},
   "outputs": [
    {
     "data": {
      "text/plain": [
       "dtype('O')"
      ]
     },
     "execution_count": 58,
     "metadata": {},
     "output_type": "execute_result"
    }
   ],
   "source": [
    "h_f[\"BsmtFinType1\"].dtype"
   ]
  },
  {
   "cell_type": "code",
   "execution_count": 59,
   "id": "29231079",
   "metadata": {},
   "outputs": [],
   "source": [
    "h_f[\"BsmtFinType1\"]=h_f[\"BsmtFinType1\"].replace(to_replace=0,value=np.nan)\n",
    "mode10=h_f[\"BsmtFinType1\"].mode()\n",
    "mode10[0]\n",
    "h_f[\"BsmtFinType1\"].replace(np.nan,mode10[0],inplace=True)"
   ]
  },
  {
   "cell_type": "code",
   "execution_count": 60,
   "id": "ee78d4af",
   "metadata": {},
   "outputs": [
    {
     "data": {
      "text/plain": [
       "dtype('O')"
      ]
     },
     "execution_count": 60,
     "metadata": {},
     "output_type": "execute_result"
    }
   ],
   "source": [
    "h_f[\"MasVnrType\"].dtype"
   ]
  },
  {
   "cell_type": "code",
   "execution_count": 61,
   "id": "67787522",
   "metadata": {},
   "outputs": [],
   "source": [
    "h_f[\"MasVnrType\"]=h_f[\"MasVnrType\"].replace(to_replace=0,value=np.nan)\n",
    "mode11=h_f[\"MasVnrType\"].mode()\n",
    "mode11[0]\n",
    "h_f[\"MasVnrType\"].replace(np.nan,mode11[0],inplace=True)"
   ]
  },
  {
   "cell_type": "code",
   "execution_count": 62,
   "id": "f9f7ff5a",
   "metadata": {},
   "outputs": [
    {
     "data": {
      "text/plain": [
       "dtype('float64')"
      ]
     },
     "execution_count": 62,
     "metadata": {},
     "output_type": "execute_result"
    }
   ],
   "source": [
    "h_f[\"MasVnrArea\"].dtype"
   ]
  },
  {
   "cell_type": "code",
   "execution_count": 63,
   "id": "a9b851ab",
   "metadata": {},
   "outputs": [
    {
     "data": {
      "text/plain": [
       "0       196.0\n",
       "1         0.0\n",
       "2       162.0\n",
       "3         0.0\n",
       "4       350.0\n",
       "        ...  \n",
       "1455      0.0\n",
       "1456    119.0\n",
       "1457      0.0\n",
       "1458      0.0\n",
       "1459      0.0\n",
       "Name: MasVnrArea, Length: 1460, dtype: float64"
      ]
     },
     "execution_count": 63,
     "metadata": {},
     "output_type": "execute_result"
    }
   ],
   "source": [
    "h_f[\"MasVnrArea\"]"
   ]
  },
  {
   "cell_type": "code",
   "execution_count": 64,
   "id": "0fded162",
   "metadata": {},
   "outputs": [],
   "source": [
    "h_f[\"MasVnrArea\"]=h_f[\"MasVnrArea\"].replace(to_replace=0,value=np.nan)\n",
    "median1=h_f[\"MasVnrArea\"].median()\n",
    "h_f[\"MasVnrArea\"].replace(np.nan,median1,inplace=True)"
   ]
  },
  {
   "cell_type": "code",
   "execution_count": 65,
   "id": "8684c882",
   "metadata": {},
   "outputs": [
    {
     "data": {
      "text/plain": [
       "dtype('O')"
      ]
     },
     "execution_count": 65,
     "metadata": {},
     "output_type": "execute_result"
    }
   ],
   "source": [
    "h_f[\"Electrical\"].dtype"
   ]
  },
  {
   "cell_type": "code",
   "execution_count": 66,
   "id": "c276b58d",
   "metadata": {},
   "outputs": [],
   "source": [
    "h_f[\"Electrical\"]=h_f[\"Electrical\"].replace(to_replace=0,value=np.nan)\n",
    "mode12=h_f[\"Electrical\"].mode()\n",
    "mode12[0]\n",
    "h_f[\"Electrical\"].replace(np.nan,mode12[0],inplace=True)"
   ]
  },
  {
   "cell_type": "code",
   "execution_count": 67,
   "id": "e685eb21",
   "metadata": {},
   "outputs": [
    {
     "data": {
      "text/plain": [
       "Id             0\n",
       "Dwell_Type     0\n",
       "Zone_Class     0\n",
       "LotFrontage    0\n",
       "LotArea        0\n",
       "dtype: int64"
      ]
     },
     "execution_count": 67,
     "metadata": {},
     "output_type": "execute_result"
    }
   ],
   "source": [
    "h_f.isnull().sum().nlargest()"
   ]
  },
  {
   "cell_type": "code",
   "execution_count": 69,
   "id": "9035c94a",
   "metadata": {},
   "outputs": [
    {
     "data": {
      "text/plain": [
       "<AxesSubplot:>"
      ]
     },
     "execution_count": 69,
     "metadata": {},
     "output_type": "execute_result"
    },
    {
     "data": {
      "image/png": "[encoded data removed]",
      "text/plain": [
       "<Figure size 432x288 with 1 Axes>"
      ]
     },
     "metadata": {
      "needs_background": "light"
     },
     "output_type": "display_data"
    }
   ],
   "source": [
    "h_f.boxplot(column=[\"Property_Sale_Price\"])"
   ]
  },
  {
   "cell_type": "code",
   "execution_count": 2,
   "id": "5aabfe6e",
   "metadata": {},
   "outputs": [
    {
     "ename": "NameError",
     "evalue": "name 'h_f' is not defined",
     "output_type": "error",
     "traceback": [
      "\u001b[1;31m---------------------------------------------------------------------------\u001b[0m",
      "\u001b[1;31mNameError\u001b[0m                                 Traceback (most recent call last)",
      "Input \u001b[1;32mIn [2]\u001b[0m, in \u001b[0;36m<cell line: 1>\u001b[1;34m()\u001b[0m\n\u001b[1;32m----> 1\u001b[0m \u001b[43mh_f\u001b[49m\u001b[38;5;241m.\u001b[39mdrop_duplicates()\n",
      "\u001b[1;31mNameError\u001b[0m: name 'h_f' is not defined"
     ]
    }
   ],
   "source": [
    "h_f.drop_duplicates()"
   ]
  },
  {
   "cell_type": "code",
   "execution_count": null,
   "id": "50a2f6a2",
   "metadata": {},
   "outputs": [],
   "source": []
  }
 ],
 "metadata": {
  "kernelspec": {
   "display_name": "Python 3 (ipykernel)",
   "language": "python",
   "name": "python3"
  },
  "language_info": {
   "codemirror_mode": {
    "name": "ipython",
    "version": 3
   },
   "file_extension": ".py",
   "mimetype": "text/x-python",
   "name": "python",
   "nbconvert_exporter": "python",
   "pygments_lexer": "ipython3",
   "version": "3.9.12"
  }
 },
 "nbformat": 4,
 "nbformat_minor": 5
}
